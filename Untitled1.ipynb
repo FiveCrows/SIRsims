{
 "cells": [
  {
   "cell_type": "code",
   "execution_count": 2,
   "metadata": {},
   "outputs": [
    {
     "name": "stdout",
     "output_type": "stream",
     "text": [
      "Covid-19\n",
      "MNIST_Tensorflow\n",
      "nmt4binaries.github.io\n",
      "python_examples\n",
      "SIRsims\n"
     ]
    }
   ],
   "source": [
    "from github import Github\n",
    "g=Github('2369aadd9a4de98b9a38d8a44743bdc8a69d7f7c') #replace with your own access token\n",
    "for repo in g.get_user().get_repos():\n",
    "    print(repo.name)"
   ]
  },
  {
   "cell_type": "code",
   "execution_count": 3,
   "metadata": {},
   "outputs": [
    {
     "name": "stdout",
     "output_type": "stream",
     "text": [
      "covid19-florida\n"
     ]
    }
   ],
   "source": [
    "repo=g.get_repo(\"gadenbuie/covid19-florida\")\n",
    "print(repo.name)"
   ]
  },
  {
   "cell_type": "code",
   "execution_count": null,
   "metadata": {},
   "outputs": [],
   "source": [
    "import git"
   ]
  }
 ],
 "metadata": {
  "kernelspec": {
   "display_name": "Python 3",
   "language": "python",
   "name": "python3"
  },
  "language_info": {
   "codemirror_mode": {
    "name": "ipython",
    "version": 3
   },
   "file_extension": ".py",
   "mimetype": "text/x-python",
   "name": "python",
   "nbconvert_exporter": "python",
   "pygments_lexer": "ipython3",
   "version": "3.7.6"
  }
 },
 "nbformat": 4,
 "nbformat_minor": 4
}
