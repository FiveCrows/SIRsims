{
 "cells": [
  {
   "cell_type": "code",
   "execution_count": 16,
   "metadata": {},
   "outputs": [],
   "source": [
    "import pickle\n",
    "import random\n",
    "from collections import defaultdict\n",
    "people_file=\"people_list_serialized.pkl\"\n",
    "people_data=pickle.load(open(people_file, 'rb'))\n",
    "people_list=list(people_data.keys())\n",
    "age_groups=['2-19','20-44','45-64','65+','others']\n",
    "sex_groups=['M','F']"
   ]
  },
  {
   "cell_type": "code",
   "execution_count": 17,
   "metadata": {},
   "outputs": [
    {
     "name": "stdout",
     "output_type": "stream",
     "text": [
      "2-19 : 61025\n",
      "20-44 : 105076\n",
      "45-64 : 63744\n",
      "65+ : 24666\n",
      "others : 0\n",
      "M : 123300\n",
      "F : 137242\n"
     ]
    }
   ],
   "source": [
    "age_groupings=defaultdict(list)\n",
    "sex_groupings=defaultdict(list)\n",
    "for idx in people_list:\n",
    "    person=people_data[idx]\n",
    "    if  2<=person.age<=19:\n",
    "        age_groupings['2-19'].append(idx)\n",
    "    elif 20<=person.age<=44:\n",
    "        age_groupings['20-44'].append(idx)\n",
    "    elif 45<=person.age<=64:\n",
    "        age_groupings['45-64'].append(idx)\n",
    "    elif person.age>=65:\n",
    "        age_groupings['65+'].append(idx)\n",
    "    else:\n",
    "        age_groupings['others'].append(idx)\n",
    "    if person.sex==0:\n",
    "        sex_groupings['M'].append(idx)\n",
    "    else:\n",
    "        sex_groupings['F'].append(idx)\n",
    "for key in age_groups:\n",
    "    print(key,\":\",len(age_groupings[key]))\n",
    "for key in sex_groups:\n",
    "    print(key,\":\",len(sex_groupings[key]))"
   ]
  },
  {
   "cell_type": "code",
   "execution_count": 20,
   "metadata": {},
   "outputs": [
    {
     "name": "stdout",
     "output_type": "stream",
     "text": [
      "112507\n"
     ]
    }
   ],
   "source": [
    "#Hypertension\n",
    "ht_groups=['2-19M','2-19F','20-44M','20-44F','45-64M','45-64F','65+M','65+F','othersM','othersF']\n",
    "ht_percentages=[31.3, 28.7,73.1,37.9, 50.1, 42,1,51.7, 55.8, 31.3, 28.7]\n",
    "#The following loop creates groupings for ht_groups above\n",
    "for idx, group in enumerate(ht_groups):\n",
    "    age_set=set(age_groupings[group[:-1]])\n",
    "    sex_set=set(sex_groupings[group[-1]])\n",
    "    common=age_set&sex_set\n",
    "    samples=random.sample(common, int(ht_percentages[idx]*len(common)/100))\n",
    "    for sample in samples:\n",
    "        people_data[sample].comorbidities['Hypertension']=True\n",
    "# ht_count=0\n",
    "# for idx in people_list:\n",
    "#     person=people_data[idx]\n",
    "#     if person.comorbidities['Hypertension']:\n",
    "#         ht_count+=1\n",
    "# print(ht_count)"
   ]
  },
  {
   "cell_type": "code",
   "execution_count": 23,
   "metadata": {},
   "outputs": [
    {
     "name": "stdout",
     "output_type": "stream",
     "text": [
      "26798\n"
     ]
    }
   ],
   "source": [
    "#diabetes\n",
    "diabetes_groups=['2-19','20-44','45-64','65+','others']\n",
    "diabetes_percentages=[0, 5.6, 21.9, 28.2, 0]\n",
    "#The following loop creates groupings for diabetes_groups above\n",
    "for idx, group in enumerate(diabetes_groups):\n",
    "    samples=random.sample(age_groupings[group], int(diabetes_percentages[idx]*len(age_groupings[group])/100))\n",
    "    for sample in samples:\n",
    "        people_data[sample].comorbidities['Diabetes']=True\n",
    "# diabetes_count=0\n",
    "# for idx in people_list:\n",
    "#     person=people_data[idx]\n",
    "#     if person.comorbidities['Diabetes']:\n",
    "#         diabetes_count+=1\n",
    "# print(diabetes_count)"
   ]
  },
  {
   "cell_type": "code",
   "execution_count": 25,
   "metadata": {},
   "outputs": [
    {
     "name": "stdout",
     "output_type": "stream",
     "text": [
      "114933\n"
     ]
    }
   ],
   "source": [
    "#obesity\n",
    "obesity_groups=['2-19M','2-19F','20-44M','20-44F','45-64M','45-64F','65+M','65+F','othersM','othersF']\n",
    "obesity_percentages=[19.1,17.8,38.1,41.2,38.1,41.2,38.1,41.2,0,0]\n",
    "#The following loop creates groupings for ht_groups above\n",
    "for idx, group in enumerate(obesity_groups):\n",
    "    age_set=set(age_groupings[group[:-1]])\n",
    "    sex_set=set(sex_groupings[group[-1]])\n",
    "    common=age_set&sex_set\n",
    "    samples=random.sample(common, int(obesity_percentages[idx]*len(common)/100))\n",
    "    for sample in samples:\n",
    "        people_data[sample].comorbidities['Obesity']=True\n",
    "obese_count=0\n",
    "for idx in people_list:\n",
    "    person=people_data[idx]\n",
    "    if person.comorbidities['Obesity']:\n",
    "        diabetes_count+=1\n",
    "print(diabetes_count)"
   ]
  },
  {
   "cell_type": "code",
   "execution_count": 26,
   "metadata": {},
   "outputs": [
    {
     "name": "stdout",
     "output_type": "stream",
     "text": [
      "20549\n"
     ]
    }
   ],
   "source": [
    "#heart_disease\n",
    "hd_groups=['2-19M','2-19F','20-44M','20-44F','45-64M','45-64F','65+M','65+F','othersM','othersF']\n",
    "hd_percentages=[2.5, 2.5, 3.6, 4.3, 13.2, 11.0, 35.4, 24.5, 0,0]\n",
    "#The following loop creates groupings for ht_groups above\n",
    "for idx, group in enumerate(hd_groups):\n",
    "    age_set=set(age_groupings[group[:-1]])\n",
    "    sex_set=set(sex_groupings[group[-1]])\n",
    "    common=age_set&sex_set\n",
    "    samples=random.sample(common, int(hd_percentages[idx]*len(common)/100))\n",
    "    for sample in samples:\n",
    "        people_data[sample].comorbidities['Heart disease']=True\n",
    "hd_count=0\n",
    "for idx in people_list:\n",
    "    person=people_data[idx]\n",
    "    if person.comorbidities['Heart disease']:\n",
    "        hd_count+=1\n",
    "print(hd_count)"
   ]
  },
  {
   "cell_type": "code",
   "execution_count": 52,
   "metadata": {},
   "outputs": [
    {
     "name": "stdout",
     "output_type": "stream",
     "text": [
      "42427\n"
     ]
    }
   ],
   "source": [
    "#Lung Disease\n",
    "ld_groups=['2-19M','2-19F','20-44M','20-44F','45-64M','45-64F','65+M','65+F','othersM','othersF']\n",
    "ld_percentages=[22.2, 18.7, 9.0, 14.1, 15.9, 23.8, 16.0, 23.0, 0,0]\n",
    "#The following loop creates groupings for ht_groups above\n",
    "for idx, group in enumerate(ld_groups):\n",
    "    age_set=set(age_groupings[group[:-1]])\n",
    "    sex_set=set(sex_groupings[group[-1]])\n",
    "    common=age_set&sex_set\n",
    "    samples=random.sample(common, int(ld_percentages[idx]*len(common)/100))\n",
    "    for sample in samples:\n",
    "        people_data[sample].comorbidities['Lung disease']=True\n"
   ]
  },
  {
   "cell_type": "code",
   "execution_count": 54,
   "metadata": {},
   "outputs": [],
   "source": [
    "pickle.dump(people_data, open(people_file,'wb'))"
   ]
  }
 ],
 "metadata": {
  "kernelspec": {
   "display_name": "Python 3",
   "language": "python",
   "name": "python3"
  },
  "language_info": {
   "codemirror_mode": {
    "name": "ipython",
    "version": 3
   },
   "file_extension": ".py",
   "mimetype": "text/x-python",
   "name": "python",
   "nbconvert_exporter": "python",
   "pygments_lexer": "ipython3",
   "version": "3.7.6"
  }
 },
 "nbformat": 4,
 "nbformat_minor": 4
}
