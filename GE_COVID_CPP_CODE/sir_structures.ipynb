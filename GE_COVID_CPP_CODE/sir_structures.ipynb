{
 "cells": [
  {
   "cell_type": "markdown",
   "metadata": {},
   "source": [
    "The objective is to convert a sophisticated SEIR code written in C++ to Julia, little by little. We will start with low level of structure: how to store a graph. \n",
    "\n",
    "The population of Leon county in 2010 had about 260,000 people, and this population lives on a graph. Each person lives in a home, and most go to school or to work. "
   ]
  },
  {
   "cell_type": "markdown",
   "metadata": {},
   "source": [
    "So need to define a graph and its connections. Here is the C++ code for the structure of a node, found in head.h:\n",
    "// Nodes refer to people in no particular order\n",
    "typedef struct Node {\n",
    "  //Info\n",
    "  int age;\n",
    "  //Infection\n",
    "  int state;\n",
    "  int hospitalization;\n",
    "  //Connections\n",
    "  int k;\n",
    "  int *v;\n",
    "  float *w;\n",
    "  int is_vacc;      // 0,1 whether vaccinated or not\n",
    "\n",
    "  // individual transmissibility (could be a function of time)\n",
    "  // Leaky Vaccine (partially effective all all vaccinated people)\n",
    "  // Hard Vaccine: Those vaccinated are immediately R. (equivalent to beta=infinity)\n",
    "  // Assume that the vaccine is immediately effective\n",
    "  // beta_is = params.beta * (1.-vacc1_effectiveness)\n",
    "  // beta_is = params.beta * (1.-vacc2_effectiveness)\n",
    "  float beta_IS;\n",
    "  float mu; // individual recovery\n",
    "\n",
    "  float vacc_infect;  // Vaccine doses reduce infectiousness of others\n",
    "  float vacc_suscept; // Vaccine doses increase my resistance to the virus\n",
    "  // Times patient enters the Latent, Sympt Infected and Recovered states (GE)\n",
    "  float t_L, t_IS, t_R, t_V1, t_V2;\n",
    "  int ti_L;  // integer time for infection (enter the latent stage)\n",
    "} Node;```"
   ]
  },
  {
   "cell_type": "markdown",
   "metadata": {},
   "source": [
    "We will not worry about efficiency. The easiest approach is a mutable structure. By default, `struct` in Julia is immutable (MUST EXPLAIN THIS): "
   ]
  },
  {
   "cell_type": "code",
   "execution_count": null,
   "metadata": {},
   "outputs": [],
   "source": [
    "# Create a function\n",
    "function timeloop(nodes) #::Vector{Nodes})\n",
    "    n = 260000\n",
    "    for i in 1:n\n",
    "        nodes[i].t_R = 1.\n",
    "    end\n",
    "end"
   ]
  },
  {
   "cell_type": "code",
   "execution_count": null,
   "metadata": {},
   "outputs": [],
   "source": [
    "mutable struct Node\n",
    "  #Info\n",
    "  age::Int64\n",
    "  #Infection\n",
    "  state::Int64\n",
    "  hospitalization::Int64\n",
    "  #Connections\n",
    "  k::Int64;\n",
    "  #int *v;\n",
    "  v::Vector{Int64}\n",
    "\n",
    "  #float *w  # Need a dynamic array to be instantiated later\n",
    "  w::Vector{Float64}\n",
    "  is_vacc::Int64      #0 ,1 whether vaccinated or not\n",
    "\n",
    "  #=  Multiline comment\n",
    "    \n",
    "  // individual transmissibility (could be a function of time)\n",
    "  // Leaky Vaccine (partially effective all all vaccinated people)\n",
    "  // Hard Vaccine: Those vaccinated are immediately R. (equivalent to beta=infinity)\n",
    "  // Assume that the vaccine is immediately effective\n",
    "  // beta_is = params.beta * (1.-vacc1_effectiveness)\n",
    "  // beta_is = params.beta * (1.-vacc2_effectiveness)\n",
    "  =#\n",
    "    \n",
    "  beta_IS::Float64;\n",
    "  mu::Float64; # individual recovery\n",
    "\n",
    "  vacc_infect::Float64;  # Vaccine doses reduce infectiousness of others\n",
    "  vacc_suscept::Float64; # Vaccine doses increase my resistance to the virus\n",
    "  # Times patient enters the Latent, Sympt Infected and Recovered states (GE)\n",
    "  t_L::Float64\n",
    "  t_IS::Float64\n",
    "  t_R::Float64\n",
    "  t_V1::Float64\n",
    "  t_V2::Float64\n",
    "  ti_L::Int64;  # integer time for infection (enter the latent stage)\n",
    "  Node() = new(0, 0, 0, 0, zeros(Int64,1), zeros(Float64,1), 0, 0.,0., 0.,0., 0.,0.,0.,0.,0.,0)\n",
    "end"
   ]
  },
  {
   "cell_type": "code",
   "execution_count": null,
   "metadata": {},
   "outputs": [],
   "source": [
    "zeros(Int64,2)"
   ]
  },
  {
   "cell_type": "markdown",
   "metadata": {},
   "source": [
    "# Demonstration of why one should execute code within a function\n",
    "## I first create a vector of n nodes (260,000, the approx number of inhabitants in Leon County\n",
    "- I initialize the nodes. Notice a default constructor inside the structure. \n",
    "- Other specialized structures are created outside the struct. \n",
    "- I then will "
   ]
  },
  {
   "cell_type": "code",
   "execution_count": null,
   "metadata": {
    "scrolled": true
   },
   "outputs": [],
   "source": [
    "a = Vector{Node}()\n",
    "nodes = a\n",
    "n = 260000\n",
    "resize!(a,n); \n",
    "for i in 1:n\n",
    "    a[i] = Node()\n",
    "end"
   ]
  },
  {
   "cell_type": "code",
   "execution_count": null,
   "metadata": {},
   "outputs": [],
   "source": [
    "a[10]  # Demonstrates the nodes are initialized properly. "
   ]
  },
  {
   "cell_type": "markdown",
   "metadata": {},
   "source": [
    "# I can also demonstrate what happens if the default constructor is not present: the elements are initialized randomly. "
   ]
  },
  {
   "cell_type": "code",
   "execution_count": null,
   "metadata": {},
   "outputs": [],
   "source": [
    "mutable struct Node_test1\n",
    "  #Info\n",
    "  age::Int64\n",
    "  #Infection\n",
    "  state::Int64\n",
    "  hospitalization::Int64\n",
    "  Node_test1() = new()\n",
    "  Node_test1(age) = new(age, 0, 0)\n",
    "  Node_test1(age,state) = new(age, state, 0)\n",
    "end\n"
   ]
  },
  {
   "cell_type": "markdown",
   "metadata": {},
   "source": [
    "### Docs suggest minimizing number of internal constructors"
   ]
  },
  {
   "cell_type": "code",
   "execution_count": null,
   "metadata": {},
   "outputs": [],
   "source": [
    "@show Node_test1(72)\n",
    "@show Node_test1(42, 78)\n",
    "@show Node_test1()  # Uninitialized"
   ]
  },
  {
   "cell_type": "code",
   "execution_count": null,
   "metadata": {},
   "outputs": [],
   "source": []
  },
  {
   "cell_type": "code",
   "execution_count": null,
   "metadata": {},
   "outputs": [],
   "source": [
    "c = b.age  # age is unitialized. Dangerous!!!"
   ]
  },
  {
   "cell_type": "code",
   "execution_count": null,
   "metadata": {},
   "outputs": [],
   "source": []
  },
  {
   "cell_type": "code",
   "execution_count": null,
   "metadata": {},
   "outputs": [],
   "source": [
    "@btime for i in 1:n\n",
    "    a[i].t_R = 1.\n",
    "end"
   ]
  },
  {
   "cell_type": "code",
   "execution_count": null,
   "metadata": {},
   "outputs": [],
   "source": [
    "@btime for i in 1:n\n",
    "    a[i].t_R = 1.\n",
    "end\n",
    "# 19 Mbytes memory allocation"
   ]
  },
  {
   "cell_type": "code",
   "execution_count": null,
   "metadata": {},
   "outputs": [],
   "source": [
    "a1 = zeros(Float64, n)\n",
    "@benchmark for i in 1:n\n",
    "    a1[i] = 1.\n",
    "end"
   ]
  },
  {
   "cell_type": "code",
   "execution_count": null,
   "metadata": {},
   "outputs": [],
   "source": [
    "a = Vector{Float64}()   # define an empty vector\n",
    "@show size(a)\n",
    "# C++ equivalent: a = new std::vector()\n",
    "resize!(a, 10);\n",
    "@show size(a)"
   ]
  },
  {
   "cell_type": "code",
   "execution_count": null,
   "metadata": {},
   "outputs": [],
   "source": [
    "a1 = Vector{Float64} # Bad\n",
    "@show size(a)\n",
    "resize!(a1, 10)  # CANNOT BE RESIZED"
   ]
  },
  {
   "cell_type": "code",
   "execution_count": null,
   "metadata": {
    "scrolled": false
   },
   "outputs": [],
   "source": [
    "@benchmark timeloop(nodes)"
   ]
  },
  {
   "cell_type": "code",
   "execution_count": null,
   "metadata": {},
   "outputs": [],
   "source": [
    "@btime timeloop(nodes)  # No memory allocation"
   ]
  },
  {
   "cell_type": "code",
   "execution_count": null,
   "metadata": {},
   "outputs": [],
   "source": [
    "# Create a function\n",
    "function timeloop(nodes::Vector{Node})\n",
    "    n = 260000\n",
    "    @inbounds for i in 1:n\n",
    "        nodes[i].t_R = 1.\n",
    "    end\n",
    "end"
   ]
  },
  {
   "cell_type": "code",
   "execution_count": null,
   "metadata": {},
   "outputs": [],
   "source": [
    "@benchmark timeloop(nodes)\n",
    "# @inbounds had very little effect (because few arrays in the loop)"
   ]
  },
  {
   "cell_type": "code",
   "execution_count": null,
   "metadata": {},
   "outputs": [],
   "source": [
    "size(nodes)"
   ]
  },
  {
   "cell_type": "markdown",
   "metadata": {},
   "source": [
    "C++ Code\n",
    "```C++\n",
    "#include <vector>\n",
    "\n",
    "int main()\n",
    "{\n",
    "    std::vector<float> aa; aa.resize(200);\n",
    "    std::vector<float>* a = new std::vector<float>();\n",
    "    a->resize(40);\n",
    "    // Dynamic memory allocation the heap for a and aa\n",
    "    // sizeof(aa): 24, sizeof(a): 8\n",
    "    printf(\"size(a,aa)= %lu, %lu\\n\", sizeof(a), sizeof(aa));\n",
    "}\n",
    "```"
   ]
  },
  {
   "cell_type": "code",
   "execution_count": null,
   "metadata": {},
   "outputs": [],
   "source": [
    "aa = Vector{Float64}()\n",
    "@show size(aa)\n",
    "resize!(aa, 100);\n",
    "@show size(aa)  # measured in floats\n",
    "@show typeof(aa)"
   ]
  },
  {
   "cell_type": "code",
   "execution_count": null,
   "metadata": {},
   "outputs": [],
   "source": [
    "@show bb = Array{Float64,1}([10.3,20,30])\n",
    "@show b1 = Array{Int64,2}([[10,3] [5,2]]) # note space separator\n",
    "@show size(b1)\n",
    "@show b2 = Array{Int64,1}([[10,3]; [5, 3]])  # note semi-colon separator\n",
    "@show sizeof(b2)  # number bytes\n",
    "@show b3 = [[2,3],[4,5]] # 1D array\n",
    "@show size(b2)\n",
    "@show size(b3)  # dimensions of array\n",
    "@show cc = Vector{Float64}([10,30,40,50]);\n",
    "# semi-colon to avoid printing last line"
   ]
  },
  {
   "cell_type": "code",
   "execution_count": null,
   "metadata": {},
   "outputs": [],
   "source": [
    "@which resize!(a, 10)"
   ]
  },
  {
   "cell_type": "code",
   "execution_count": null,
   "metadata": {},
   "outputs": [],
   "source": [
    "mutable struct xx2\n",
    "    v::Vector{Float64}\n",
    "end"
   ]
  },
  {
   "cell_type": "code",
   "execution_count": null,
   "metadata": {
    "scrolled": true
   },
   "outputs": [],
   "source": [
    "xx2_ = xx2(zeros(8))"
   ]
  },
  {
   "cell_type": "code",
   "execution_count": null,
   "metadata": {},
   "outputs": [],
   "source": [
    "resize!(xx2_.v, 12)\n",
    "@show xx2_;"
   ]
  },
  {
   "cell_type": "code",
   "execution_count": null,
   "metadata": {},
   "outputs": [],
   "source": [
    "resize!(x1.v,10)"
   ]
  },
  {
   "cell_type": "markdown",
   "metadata": {},
   "source": [
    "# Return to Nodes and SEIR model\n",
    "## We duplicate all the structs on head.h . This might change later as we optmize and restructure the code"
   ]
  },
  {
   "cell_type": "markdown",
   "metadata": {},
   "source": [
    "```c++\n",
    "typedef struct List {\n",
    "  int *v;\n",
    "  int n;\n",
    "  int cum[NAGE];\n",
    "} List;\n",
    "\n",
    "typedef struct TIMES {\n",
    "    int id_from;\n",
    "    int id_to;\n",
    "    int state_from;\n",
    "    int state_to;\n",
    "} TIMES;\n",
    "\n",
    "typedef struct Counts {\n",
    "    int count_l_asymp;\n",
    "    int count_l_symp;\n",
    "    int count_l_presymp;\n",
    "    int count_i_symp;\n",
    "    int count_recov;\n",
    "    int count_vacc1;\n",
    "    int count_vacc2;\n",
    "    int countS;\n",
    "    int countL;\n",
    "    int countIS;\n",
    "    int countR;\n",
    "    int countV1;\n",
    "    int countV2;\n",
    "    std::vector<int> cvacc1, cvacc2;\n",
    "    std::vector<int> cS, cL, cIS, cR;\n",
    "    std::vector<float> times;\n",
    "} Counts;\n",
    "\n",
    "//Parameters\n",
    "typedef struct Params {\n",
    "    int N, n_runs, parameters;\n",
    "    float r, epsilon_asymptomatic, epsilon_symptomatic;\n",
    "    float p, gammita, mu, delta, muH, muICU, k, beta_normal;\n",
    "    float alpha[NAGE], xi[NAGE], beta[NCOMPARTMENTS];\n",
    "    float dt;\n",
    "    float vacc1_rate;    //  nb 1st vaccinations per day\n",
    "    float vacc2_rate;    //  nb 2nd vaccinations per day\n",
    "    float vacc1_eff; //  % of people for whom 1st shot of the vaccine works as expected\n",
    "    float vacc2_eff; //  % of people for whom 2nd shot of the vaccine works as expected\n",
    "    // By default the same as the effectiveness (effect on transmissibility)\n",
    "    float vacc1_recov_eff; //  reduction in recovery time due to vaccine shot\n",
    "    float vacc2_recov_eff; //  reduction in recovery time due to vaccine shot\n",
    "    float dt_btw_vacc; // Time between vacc1 and vacc2\n",
    "    int max_nb_avail_doses;  // maximum number of available doses\n",
    "    int nb_doses;      // 1 or 2 depending on the vaccine or experiment peformed\n",
    "    float beta_shape;  // shape parameter for infectivity profile\n",
    "    float beta_scale;  // scale parameter for infectivity profile\n",
    "    std::vector<double> betaISt;  // Time-dependent profile for beta. Hardcoded for now.\n",
    "    float R0;  // Initial R0 in the absence of social behavioral due to COVID-2.\n",
    "} Params;\n",
    "\n",
    "//Spreading\n",
    "typedef struct Lists {\n",
    "    int n_active, index_node;\n",
    "    List susceptible; // Not clear whether necessary\n",
    "    List latent_asymptomatic, latent_symptomatic, infectious_asymptomatic, pre_symptomatic, infectious_symptomatic, home, hospital, icu, recovered, vacc1, vacc2;\n",
    "    List new_latent_asymptomatic, new_latent_symptomatic, new_infectious_asymptomatic, new_pre_symptomatic, new_infectious_symptomatic, new_home, new_hospital, new_icu, new_recovered, new_vacc1, new_vacc2;\n",
    "    // Added by GE\n",
    "    std::vector<int> id_from, id_to, state_from, state_to; //, from_time, to_time;\n",
    "    std::vector<float> from_time, to_time;\n",
    "    std::vector<int> people_vaccinated;\n",
    "    std::vector<int> permuted_nodes;  // randomized population\n",
    "} Lists;\n",
    "\n",
    "//Network\n",
    "typedef struct Network {\n",
    "    Node *node;\n",
    "    int start_search; // node to start search from to vaccinate\n",
    "} Network;\n",
    "\n",
    "typedef struct Files {\n",
    "    //Various\n",
    "    float t;\n",
    "    int it;  // integer count\n",
    "    //int t;\n",
    "    FILE *f_cum, *f_data;\n",
    "    char f_cum_file[255], f_data_file[255];\n",
    "    char name_cum[255], name_data[255];\n",
    "    char data_folder[255], result_folder[255];\n",
    "    char parameter_file[255];\n",
    "    char node_file[255];\n",
    "    char network_file[255];\n",
    "    char vaccination_file[255];\n",
    "} Files;\n",
    "```"
   ]
  },
  {
   "cell_type": "markdown",
   "metadata": {},
   "source": [
    "Of the above structures, the Lists structures are the most important as they store information about the graph. We will start with defining a Julia `struct` called List. In C++, the list looks as follows: \n",
    "```C++ typedef struct List {\n",
    "  int *v;\n",
    "  int n;\n",
    "  int cum[NAGE];\n",
    "} List;```\n",
    "\n",
    "The Julia version looks as follows, for now: "
   ]
  },
  {
   "cell_type": "code",
   "execution_count": null,
   "metadata": {},
   "outputs": [],
   "source": [
    "# Once defined, a list cannot be redefined. The issue relates to the global \n",
    "# scope. The proper approach is to work within a new module. We will ignore this\n",
    "# for now. \n",
    "mutable struct List1\n",
    "    v::Vector{Int64}\n",
    "    n::Int64\n",
    "    #m::Int64    # Uncomment this line. The code no longer works. \n",
    "    # cum::Vector{Int64} # ages. Ignore for now\n",
    "    List1() = new(zeros(Int64,1), 0, 0)\n",
    "end"
   ]
  },
  {
   "cell_type": "code",
   "execution_count": null,
   "metadata": {},
   "outputs": [],
   "source": [
    "#  The struct we will use\n",
    "mutable struct List\n",
    "    v::Vector{Int64}\n",
    "    n::Int64\n",
    "    #m::Int64    # Uncomment this line. The code no longer works. \n",
    "    # cum::Vector{Int64} # ages. Ignore for now\n",
    "    List() = new(zeros(Int64,1),0)  # not allowed to redefine the constructor\n",
    "end"
   ]
  },
  {
   "cell_type": "code",
   "execution_count": null,
   "metadata": {},
   "outputs": [],
   "source": [
    "l = List()"
   ]
  },
  {
   "cell_type": "markdown",
   "metadata": {},
   "source": [
    "## The next step is to read in a network, and construct some routines to add and delete from the list. \n",
    "- Here are the C++ codes\n",
    "\n",
    "```C++\n",
    "void G::addToList(List *list, int id)\n",
    "{\n",
    "  list->v[list->n] = id;\n",
    "  list->n++;\n",
    "}\n",
    "\n",
    "void G::updateList(List* list, List *newl, Network& network)\n",
    "{\n",
    "  for(int i=0;i<newl->n;i++)\n",
    "    {\n",
    "      list->v[list->n] = newl->v[i];\n",
    "      list->n++;\n",
    "      list->cum[network.node[newl->v[i]].age]++;  // Ignore for now\n",
    "    }\n",
    "}\n",
    "\n",
    "int G::removeFromList(List *list, int i)\n",
    "{\n",
    "  list->n--;\n",
    "  list->v[i] = list->v[list->n];\n",
    "\n",
    "  return i-1;\n",
    "}\n",
    "```\n"
   ]
  },
  {
   "cell_type": "markdown",
   "metadata": {},
   "source": [
    "And we should also create initializationa routines\n",
    "\n",
    "```C++\n",
    "void G::resetVariables(Lists& l, Files& files)\n",
    "{\n",
    "  l.susceptible.n = 0;\n",
    "  l.latent_asymptomatic.n = 0;\n",
    "  l.latent_symptomatic.n = 0;\n",
    "  l.infectious_asymptomatic.n = 0;\n",
    "  l.pre_symptomatic.n = 0;\n",
    "  l.infectious_symptomatic.n = 0;\n",
    "  l.home.n = 0;\n",
    "  l.hospital.n = 0;\n",
    "  l.icu.n = 0;\n",
    "  l.recovered.n = 0;\n",
    "  l.vacc1.n = 0;\n",
    "  l.vacc2.n = 0;\n",
    "\n",
    "  for(int i=0; i < NAGE; i++)\n",
    "  {\n",
    "      l.susceptible.cum[i] = 0;\n",
    "      l.latent_asymptomatic.cum[i] = 0;\n",
    "      l.latent_symptomatic.cum[i] = 0;\n",
    "      l.infectious_asymptomatic.cum[i] = 0;\n",
    "      l.pre_symptomatic.cum[i] = 0;\n",
    "      l.infectious_symptomatic.cum[i] = 0;\n",
    "      l.home.cum[i] = 0;\n",
    "      l.hospital.cum[i] = 0;\n",
    "      l.icu.cum[i] = 0;\n",
    "      l.recovered.cum[i] = 0;\n",
    "      l.vacc1.cum[i] = 0;\n",
    "      l.vacc2.cum[i] = 0;\n",
    "  }\n",
    "\n",
    "  files.t = 0;\n",
    "  l.n_active = 0;\n",
    "\n",
    "  l.id_from.resize(0);\n",
    "  l.id_to.resize(0);\n",
    "  l.state_from.resize(0);\n",
    "  l.state_to.resize(0);\n",
    "  l.from_time.resize(0);\n",
    "  l.to_time.resize(0);\n",
    "\n",
    " // Transmission profile\n",
    "  // We will use a Weibull Distribution with scale 5.665 and shape 2.826,\n",
    "  // from the paper by Ferretti (2020), \"Quantifying SARS-COV-2\" transmission\n",
    "  // suggests epidemic control with digital contact tracing.\"\n",
    "  par.betaISt.resize(3000);\n",
    "  double shape = 2.826;\n",
    "  double scale = 5.665;\n",
    "  double sum = 0.0;\n",
    "\n",
    "  // 3000 is overkill, but it allows me to avoid an if statement in getBetISt()\n",
    "  for (int i=0; i < 3000; i++) {\n",
    "     double t = i * par.dt;\n",
    "     par.betaISt[i] = gsl_ran_weibull_pdf(t, scale, shape);\n",
    "     printf(\"beta: %f\\n\", par.betaISt[i]);\n",
    "     sum += par.betaISt[i];\n",
    "     printf(\"beta[%f]= %f\\n\", i*par.dt, par.betaISt[i]);\n",
    "  }\n",
    "  printf(\"integral of betaISt= %f\\n\", sum*par.dt);\n",
    "}\n",
    "\n",
    "void G::resetNodes(Params& par, Network& net)\n",
    "{\n",
    "    for(int i=0; i < par.N; i++) {\n",
    "        net.node[i].state = S;\n",
    "        net.node[i].is_vacc = 0;\n",
    "        net.node[i].beta_IS = par.beta[IS];\n",
    "        net.node[i].mu = par.mu;\n",
    "        net.node[i].vacc_infect  = 1.0;\n",
    "        net.node[i].vacc_suscept = 1.0;\n",
    "    }\n",
    "\n",
    "    net.start_search = 0;\n",
    "}\n",
    "\n",
    "void G::resetNew(Lists& l)\n",
    "{\n",
    "  l.new_latent_asymptomatic.n = 0;\n",
    "  l.new_latent_symptomatic.n = 0;\n",
    "  l.new_infectious_asymptomatic.n = 0;\n",
    "  l.new_pre_symptomatic.n = 0;\n",
    "  l.new_infectious_symptomatic.n = 0;\n",
    "  l.new_home.n = 0;\n",
    "  l.new_hospital.n = 0;\n",
    "  l.new_icu.n = 0;\n",
    "  l.new_recovered.n = 0;\n",
    "  l.new_vacc1.n = 0;\n",
    "  l.new_vacc2.n = 0;\n",
    "}\n",
    "```"
   ]
  },
  {
   "cell_type": "markdown",
   "metadata": {},
   "source": [
    "# Let us start with addToList: \n",
    "\n",
    "```C++\n",
    "void G::addToList(List *list, int id)\n",
    "{\n",
    "  list->v[list->n] = id;\n",
    "  list->n++;\n",
    "}```\n",
    "In Julia, "
   ]
  },
  {
   "cell_type": "code",
   "execution_count": null,
   "metadata": {},
   "outputs": [],
   "source": [
    "# by typing the arguments, we tell the compiler the second argumetn will always be an Int64\n",
    "# and the first argument will always be a list. Specialization will help the multiple dispatcher \n",
    "# in case of function overload. But decreases generality. Some argument types can be removed at a later\n",
    "# time if needed.\n",
    "\n",
    "function addToList(list::List, id::Int64)\n",
    "    # n is initially zero, count from 1. I could initialize n to -1 but that is unnatural\n",
    "    list.v[list.n+1] = id  \n",
    "    list.n += 1    # The ++ operator does not exist\n",
    "end"
   ]
  },
  {
   "cell_type": "code",
   "execution_count": null,
   "metadata": {},
   "outputs": [],
   "source": [
    "list = List()\n",
    "sizeof(list.v)"
   ]
  },
  {
   "cell_type": "code",
   "execution_count": null,
   "metadata": {},
   "outputs": [],
   "source": [
    "addToList(list, 3)"
   ]
  },
  {
   "cell_type": "markdown",
   "metadata": {},
   "source": [
    "- Clearly, I forgot to initialize list.v \n",
    "- This is done in a method called G::allocateMemory(...)\n",
    "\n",
    "``` C++\n",
    "void G::allocateMemory(Params& p, Lists& l)\n",
    "{\n",
    "  //Spreading\n",
    "  // Memory: 4.4Mbytes for these lists for Leon County, including vaccines\n",
    "  printf(\"memory: %lu bytes\\n\", p.N * sizeof(*l.latent_asymptomatic.v) * 11 * 2);\n",
    "  printf(\"sizeof(int*)= %ld\\n\", sizeof(int*));\n",
    "  l.susceptible.v = (int*) malloc(p.N * sizeof * l.susceptible.v);\n",
    "  l.latent_asymptomatic.v = (int*) malloc(p.N * sizeof * l.latent_asymptomatic.v);\n",
    "  l.latent_symptomatic.v = (int*) malloc(p.N * sizeof * l.latent_symptomatic.v);\n",
    "  l.infectious_asymptomatic.v = (int*) malloc(p.N * sizeof * l.infectious_asymptomatic.v);\n",
    "  l.pre_symptomatic.v = (int*) malloc(p.N * sizeof * l.pre_symptomatic.v);\n",
    "  l.infectious_symptomatic.v = (int*) malloc(p.N * sizeof * l.infectious_symptomatic.v);\n",
    "  l.home.v = (int*) malloc(p.N * sizeof * l.home.v);\n",
    "  l.hospital.v = (int*) malloc(p.N * sizeof * l.hospital.v);\n",
    "  l.icu.v = (int*) malloc(p.N * sizeof * l.icu.v);\n",
    "  l.recovered.v = (int*) malloc(p.N * sizeof * l.recovered.v);\n",
    "  l.vacc1.v = (int*) malloc(p.N * sizeof * l.vacc1.v);\n",
    "  l.vacc2.v = (int*) malloc(p.N * sizeof * l.vacc2.v);\n",
    "\n",
    "  //New spreading\n",
    "  l.new_latent_asymptomatic.v = (int*) malloc(p.N * sizeof * l.new_latent_asymptomatic.v);\n",
    "  l.new_latent_symptomatic.v = (int*) malloc(p.N * sizeof * l.new_latent_symptomatic.v);\n",
    "  l.new_infectious_asymptomatic.v = (int*) malloc(p.N * sizeof * l.new_infectious_asymptomatic.v);\n",
    "  l.new_pre_symptomatic.v = (int*) malloc(p.N * sizeof * l.new_pre_symptomatic.v);\n",
    "  l.new_infectious_symptomatic.v = (int*) malloc(p.N * sizeof * l.new_infectious_symptomatic.v);\n",
    "  l.new_home.v = (int*) malloc(p.N * sizeof * l.new_home.v);\n",
    "  l.new_hospital.v = (int*) malloc(p.N * sizeof * l.new_hospital.v);\n",
    "  l.new_icu.v = (int*) malloc(p.N * sizeof * l.new_icu.v);\n",
    "  l.new_recovered.v = (int*) malloc(p.N * sizeof * l.new_recovered.v);\n",
    "  l.new_vacc1.v = (int*) malloc(p.N * sizeof * l.new_vacc1.v);\n",
    "  l.new_vacc2.v = (int*) malloc(p.N * sizeof * l.new_vacc2.v);\n",
    "}```\n",
    "\n",
    "`gordon` \n",
    "'''\n",
    "What is done\n",
    "'''"
   ]
  },
  {
   "cell_type": "markdown",
   "metadata": {},
   "source": [
    "I will create a function to allocate memory for a single list"
   ]
  },
  {
   "cell_type": "code",
   "execution_count": null,
   "metadata": {},
   "outputs": [],
   "source": [
    "function allocateMemory(list::List, N::Int32)\n",
    "    # 16 bit int stores 65k values. Lists default to size N=260,000\n",
    "    # So I need 32 bits. \n",
    "    list.v = zeros(Int32, N)\n",
    "end"
   ]
  },
  {
   "cell_type": "code",
   "execution_count": null,
   "metadata": {},
   "outputs": [],
   "source": [
    "list = List()\n",
    "n = Int32(10)\n",
    "allocateMemory(list, n);"
   ]
  },
  {
   "cell_type": "code",
   "execution_count": null,
   "metadata": {},
   "outputs": [],
   "source": [
    "# Is this the best approach, or perhaps sub-structures would be better\n",
    "# It is always about efficiency versus readability\n",
    "\n",
    "# It is not clear whether I need a struct or whether I should pass the lists\n",
    "# as need as argument. This approach seems cleaner.\n",
    "\n",
    "mutable struct Lists\n",
    "    n_active::Int64\n",
    "    index_node::Int64\n",
    "    \n",
    "    susceptible::List\n",
    "    latent_asymptomatic::List\n",
    "    latent_symptomatic::List\n",
    "    infectious_asymptomatic::List\n",
    "    pre_symptomatic::List \n",
    "    infectious_symptomatic::List\n",
    "    home::List\n",
    "    hospital::List\n",
    "    icu::List\n",
    "    recovered::List\n",
    "    vacc1::List\n",
    "    vacc2::List\n",
    "    new_latent_asymptomatic::List\n",
    "    new_latent_symptomatic::List\n",
    "    new_infectious_asymptomatic::List\n",
    "    new_pre_symptomatic::List\n",
    "    new_infectious_symptomatic::List\n",
    "    new_home::List\n",
    "    new_hospital::List \n",
    "    new_icu::List\n",
    "    new_recovered::List\n",
    "    new_vacc1::List\n",
    "    new_vacc2::List\n",
    "\n",
    "    id_from::Vector{Int64}\n",
    "    id_to::Vector{Int64}\n",
    "    state_from::Vector{Int64}\n",
    "    state_to::Vector{Int64}\n",
    "    from_time::Vector{Int64}\n",
    "    to_time::Vector{Int64}\n",
    "    people_vaccinated::Vector{Int64}\n",
    "    permuted_nodes::Vector{Int64}\n",
    "    \n",
    "    # Ideally, I only wish to initialize the elements I will use\n",
    "    Lists() = new(0,0, List(), List(), List(), List(), List(), List(), List(), List(), \n",
    "        List(), List(), List(), List(), List(), List(), List(), List(), \n",
    "        List(), List(), List(), List(), List(), List(), List(), \n",
    "        zeros(Int64,1), zeros(Int64,1), zeros(Int64,1), zeros(Int64,1),\n",
    "        zeros(Int64,1), zeros(Int64,1), zeros(Int64,1), zeros(Int64,1))\n",
    "end"
   ]
  },
  {
   "cell_type": "code",
   "execution_count": null,
   "metadata": {},
   "outputs": [],
   "source": [
    "lists = Lists()"
   ]
  },
  {
   "cell_type": "markdown",
   "metadata": {},
   "source": [
    "## There is probably a more julia-nic way to do this, but \n",
    "- First get the code running with the correct results (same as C++ code)\n",
    "- Then use this as a benchmark to gauge refactorizations\n",
    "- This is part of the software engineering process\n",
    "\n",
    "## I will now initialize the lists I will require by create a routine allocateMemory with a different argument type: Lists  \n",
    "- I used multiple dispatch with allocateMemory()"
   ]
  },
  {
   "cell_type": "code",
   "execution_count": null,
   "metadata": {},
   "outputs": [],
   "source": [
    "function allocateMemory(l::Lists, N::Int32)\n",
    "    # 16 bit int stores 65k values. Lists default to size N=260,000\n",
    "    # So I need 32 bits. \n",
    "    allocateMemory(l.susceptible, N)\n",
    "    allocateMemory(l.infectious_symptomatic, N)\n",
    "    allocateMemory(l.recovered, N)\n",
    "end"
   ]
  },
  {
   "cell_type": "code",
   "execution_count": null,
   "metadata": {},
   "outputs": [],
   "source": [
    "N = Int32(260000)\n",
    "lists = Lists()\n",
    "allocateMemory(lists, N);"
   ]
  },
  {
   "cell_type": "code",
   "execution_count": null,
   "metadata": {},
   "outputs": [],
   "source": [
    "methods(addToList)"
   ]
  },
  {
   "cell_type": "code",
   "execution_count": null,
   "metadata": {},
   "outputs": [],
   "source": [
    "addToList(lists.recovered, 19)"
   ]
  },
  {
   "cell_type": "code",
   "execution_count": null,
   "metadata": {},
   "outputs": [],
   "source": [
    "lists.recovered.n\n"
   ]
  },
  {
   "cell_type": "markdown",
   "metadata": {},
   "source": [
    "## Apparently, addToLists works as expected. Next: \n",
    "- removeFromList()\n",
    "- updateLists\n",
    "\n",
    "```C++\n",
    "void G::updateList(List* list, List *newl, Network& network)\n",
    "{\n",
    "  for(int i=0;i<newl->n;i++)\n",
    "    {\n",
    "      list->v[list->n] = newl->v[i];\n",
    "      list->n++;\n",
    "      list->cum[network.node[newl->v[i]].age]++;  // Ignore for now\n",
    "    }\n",
    "}\n",
    "\n",
    "int G::removeFromList(List *list, int i)\n",
    "{\n",
    "  list->n--;\n",
    "  list->v[i] = list->v[list->n];\n",
    "\n",
    "  return i-1;\n",
    "}\n",
    "```"
   ]
  },
  {
   "cell_type": "code",
   "execution_count": null,
   "metadata": {},
   "outputs": [],
   "source": [
    "function removeFromList(l::List, i::Int32)\n",
    "    # Maintain a dense list by plugging the holes left by the node removed\n",
    "    l.n -= 1\n",
    "    l.v[i] = l.v[n]  # fill the ith slot with the nth node\n",
    "    return i  # return the node removed from the list\n",
    "end"
   ]
  },
  {
   "cell_type": "code",
   "execution_count": null,
   "metadata": {},
   "outputs": [],
   "source": [
    "function updateList(l::List, newl::List, network::Network)\n",
    "    for i in 1:newl.n\n",
    "        l.v[l.n] = newl.v[i]\n",
    "        l.n  += 1\n",
    "        # I removed any age information\n",
    "    end\n",
    "end"
   ]
  },
  {
   "cell_type": "markdown",
   "metadata": {},
   "source": [
    "## Next step: read the nodes and edges into the program and define the Network struct"
   ]
  },
  {
   "cell_type": "code",
   "execution_count": null,
   "metadata": {},
   "outputs": [],
   "source": [
    "# edges will be encoded into the neighbor of each node in Nodes\n",
    "mutable struct Network\n",
    "    nodes::Vector{Node}\n",
    "    start_search::Int64 # node to start search from to vaccinate\n",
    "end"
   ]
  },
  {
   "cell_type": "code",
   "execution_count": null,
   "metadata": {},
   "outputs": [],
   "source": []
  }
 ],
 "metadata": {
  "@webio": {
   "lastCommId": null,
   "lastKernelId": null
  },
  "kernelspec": {
   "display_name": "Julia 1.5.1",
   "language": "julia",
   "name": "julia-1.5"
  },
  "language_info": {
   "file_extension": ".jl",
   "mimetype": "application/julia",
   "name": "julia",
   "version": "1.5.3"
  }
 },
 "nbformat": 4,
 "nbformat_minor": 4
}
